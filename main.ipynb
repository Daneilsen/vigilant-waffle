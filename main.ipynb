{
 "cells": [
  {
   "cell_type": "code",
   "execution_count": 1,
   "id": "2461f4fd",
   "metadata": {},
   "outputs": [],
   "source": [
    "import pandas as pd"
   ]
  },
  {
   "cell_type": "code",
   "execution_count": 2,
   "id": "800248c1",
   "metadata": {},
   "outputs": [],
   "source": [
    "colnames=['time', 'longitude', 'latitude', 'status'] \n",
    "df = pd.read_csv('./data/py/road/road.csv', names=colnames, header=None)\n",
    "\n",
    "result = df[['time', 'status']]"
   ]
  },
  {
   "cell_type": "code",
   "execution_count": null,
   "id": "7948ca84",
   "metadata": {},
   "outputs": [
    {
     "name": "stdout",
     "output_type": "stream",
     "text": [
      " * Serving Flask app '__main__'\n",
      " * Debug mode: off\n"
     ]
    },
    {
     "name": "stderr",
     "output_type": "stream",
     "text": [
      "\u001b[31m\u001b[1mWARNING: This is a development server. Do not use it in a production deployment. Use a production WSGI server instead.\u001b[0m\n",
      " * Running on http://127.0.0.1:5000\n",
      "\u001b[33mPress CTRL+C to quit\u001b[0m\n",
      "127.0.0.1 - - [02/Mar/2023 23:20:25] \"GET / HTTP/1.1\" 200 -\n",
      "[2023-03-02 23:20:33,147] ERROR in app: Exception on /time/0,0 [GET]\n",
      "Traceback (most recent call last):\n",
      "  File \"/home/sand/Schoolworks/CS4962/vigilant-waffle/.venv/lib/python3.9/site-packages/flask/app.py\", line 2528, in wsgi_app\n",
      "    response = self.full_dispatch_request()\n",
      "  File \"/home/sand/Schoolworks/CS4962/vigilant-waffle/.venv/lib/python3.9/site-packages/flask/app.py\", line 1825, in full_dispatch_request\n",
      "    rv = self.handle_user_exception(e)\n",
      "  File \"/home/sand/Schoolworks/CS4962/vigilant-waffle/.venv/lib/python3.9/site-packages/flask/app.py\", line 1823, in full_dispatch_request\n",
      "    rv = self.dispatch_request()\n",
      "  File \"/home/sand/Schoolworks/CS4962/vigilant-waffle/.venv/lib/python3.9/site-packages/flask/app.py\", line 1799, in dispatch_request\n",
      "    return self.ensure_sync(self.view_functions[rule.endpoint])(**view_args)\n",
      "  File \"/tmp/ipykernel_5067/1743405454.py\", line 11, in my_view_func\n",
      "    time = float(time)\n",
      "ValueError: could not convert string to float: '0,0'\n",
      "127.0.0.1 - - [02/Mar/2023 23:20:33] \"\u001b[35m\u001b[1mGET /time/0,0 HTTP/1.1\u001b[0m\" 500 -\n",
      "127.0.0.1 - - [02/Mar/2023 23:20:41] \"GET /time/0.0 HTTP/1.1\" 200 -\n",
      "127.0.0.1 - - [02/Mar/2023 23:20:44] \"GET /time/1.0 HTTP/1.1\" 200 -\n",
      "127.0.0.1 - - [02/Mar/2023 23:20:47] \"GET /time/2.0 HTTP/1.1\" 200 -\n",
      "127.0.0.1 - - [02/Mar/2023 23:20:49] \"GET /time/3.0 HTTP/1.1\" 200 -\n",
      "127.0.0.1 - - [02/Mar/2023 23:20:51] \"GET /time/4.0 HTTP/1.1\" 200 -\n",
      "127.0.0.1 - - [02/Mar/2023 23:20:54] \"GET /time/5.0 HTTP/1.1\" 200 -\n",
      "127.0.0.1 - - [02/Mar/2023 23:20:57] \"GET /time/9.0 HTTP/1.1\" 200 -\n",
      "127.0.0.1 - - [02/Mar/2023 23:21:38] \"GET /time/9.0 HTTP/1.1\" 200 -\n"
     ]
    }
   ],
   "source": [
    "import json\n",
    "from flask import Flask, Response\n",
    "app = Flask(__name__)\n",
    "\n",
    "@app.route(\"/\")\n",
    "def dfjson():\n",
    "     return Response(df.to_json(orient=\"records\"), mimetype='application/json')\n",
    "    \n",
    "@app.route('/time/<time>')\n",
    "def my_view_func(time):\n",
    "    time = float(time)\n",
    "    resultAtThatTime = result.loc[df['time'] == time].mode()\n",
    "    return Response(resultAtThatTime.to_json(orient=\"records\"), mimetype='application/json')\n",
    "\n",
    "app.run()"
   ]
  },
  {
   "cell_type": "code",
   "execution_count": null,
   "id": "95299d1a",
   "metadata": {},
   "outputs": [],
   "source": []
  }
 ],
 "metadata": {
  "kernelspec": {
   "display_name": "Python 3 (ipykernel)",
   "language": "python",
   "name": "python3"
  },
  "language_info": {
   "codemirror_mode": {
    "name": "ipython",
    "version": 3
   },
   "file_extension": ".py",
   "mimetype": "text/x-python",
   "name": "python",
   "nbconvert_exporter": "python",
   "pygments_lexer": "ipython3",
   "version": "3.9.2"
  }
 },
 "nbformat": 4,
 "nbformat_minor": 5
}
