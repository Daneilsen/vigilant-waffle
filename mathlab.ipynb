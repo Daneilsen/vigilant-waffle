{
 "cells": [
  {
   "cell_type": "code",
   "execution_count": 1,
   "id": "f0fdc101",
   "metadata": {},
   "outputs": [],
   "source": [
    "import numpy as np\n",
    "from scipy.io import loadmat\n",
    "import pandas as pd\n",
    "\n",
    "mat = loadmat('./data/s_100_5.mat');"
   ]
  },
  {
   "cell_type": "code",
   "execution_count": 24,
   "id": "8d4f0cd2",
   "metadata": {},
   "outputs": [
    {
     "data": {
      "text/plain": [
       "array([[array([[MatlabOpaque([(b'', b'MCOS', b'pointCloud', array([[3707764736],\n",
       "                                     [         2],\n",
       "                                     [         1],\n",
       "                                     [         1],\n",
       "                                     [         3],\n",
       "                                     [         4]], dtype=uint32))              ],\n",
       "                             dtype=[('s0', 'O'), ('s1', 'O'), ('s2', 'O'), ('arr', 'O')])]],\n",
       "              dtype=object)                                                                 ,\n",
       "        array([[MatlabOpaque([(b'', b'MCOS', b'pointCloud', array([[3707764736],\n",
       "                                     [         2],\n",
       "                                     [         1],\n",
       "                                     [         1],\n",
       "                                     [         6],\n",
       "                                     [         4]], dtype=uint32))              ],\n",
       "                             dtype=[('s0', 'O'), ('s1', 'O'), ('s2', 'O'), ('arr', 'O')])]],\n",
       "              dtype=object)                                                                 ,\n",
       "        array([[MatlabOpaque([(b'', b'MCOS', b'pointCloud', array([[3707764736],\n",
       "                                     [         2],\n",
       "                                     [         1],\n",
       "                                     [         1],\n",
       "                                     [         7],\n",
       "                                     [         4]], dtype=uint32))              ],\n",
       "                             dtype=[('s0', 'O'), ('s1', 'O'), ('s2', 'O'), ('arr', 'O')])]],\n",
       "              dtype=object)                                                                 ,\n",
       "        array([[MatlabOpaque([(b'', b'MCOS', b'pointCloud', array([[3707764736],\n",
       "                                     [         2],\n",
       "                                     [         1],\n",
       "                                     [         1],\n",
       "                                     [         8],\n",
       "                                     [         4]], dtype=uint32))              ],\n",
       "                             dtype=[('s0', 'O'), ('s1', 'O'), ('s2', 'O'), ('arr', 'O')])]],\n",
       "              dtype=object)                                                                 ,\n",
       "        array([[MatlabOpaque([(b'', b'MCOS', b'pointCloud', array([[3707764736],\n",
       "                                     [         2],\n",
       "                                     [         1],\n",
       "                                     [         1],\n",
       "                                     [         9],\n",
       "                                     [         4]], dtype=uint32))              ],\n",
       "                             dtype=[('s0', 'O'), ('s1', 'O'), ('s2', 'O'), ('arr', 'O')])]],\n",
       "              dtype=object)                                                                 ,\n",
       "        array([[MatlabOpaque([(b'', b'MCOS', b'pointCloud', array([[3707764736],\n",
       "                                     [         2],\n",
       "                                     [         1],\n",
       "                                     [         1],\n",
       "                                     [        10],\n",
       "                                     [         4]], dtype=uint32))              ],\n",
       "                             dtype=[('s0', 'O'), ('s1', 'O'), ('s2', 'O'), ('arr', 'O')])]],\n",
       "              dtype=object)                                                                 ]],\n",
       "      dtype=object)"
      ]
     },
     "execution_count": 24,
     "metadata": {},
     "output_type": "execute_result"
    }
   ],
   "source": [
    "mat['s_100_5']['PointClouds']"
   ]
  },
  {
   "cell_type": "code",
   "execution_count": null,
   "id": "a0529fcb",
   "metadata": {},
   "outputs": [],
   "source": []
  }
 ],
 "metadata": {
  "kernelspec": {
   "display_name": "Python 3 (ipykernel)",
   "language": "python",
   "name": "python3"
  },
  "language_info": {
   "codemirror_mode": {
    "name": "ipython",
    "version": 3
   },
   "file_extension": ".py",
   "mimetype": "text/x-python",
   "name": "python",
   "nbconvert_exporter": "python",
   "pygments_lexer": "ipython3",
   "version": "3.9.2"
  }
 },
 "nbformat": 4,
 "nbformat_minor": 5
}
