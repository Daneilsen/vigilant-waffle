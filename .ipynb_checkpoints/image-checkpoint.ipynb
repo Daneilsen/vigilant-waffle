{
 "cells": [
  {
   "cell_type": "markdown",
   "id": "c67ffa2a",
   "metadata": {},
   "source": [
    "## Extract videos to frames"
   ]
  },
  {
   "cell_type": "markdown",
   "id": "d7a5dad8",
   "metadata": {},
   "source": [
    "This function uses the OpenCV library to read the video files and extract the frames. It creates a subdirectory in the output folder for each video file, and saves the frames as JPEG images in that subdirectory with names like frame_0000.jpg, frame_0001.jpg, etc."
   ]
  },
  {
   "cell_type": "code",
   "execution_count": 1,
   "id": "ed680f84",
   "metadata": {},
   "outputs": [],
   "source": [
    "import cv2\n",
    "import numpy as np\n",
    "import os\n",
    "\n",
    "def extract_frames(input_folder, output_folder):\n",
    "    # Loop through all files in the input folder\n",
    "    for filename in os.listdir(input_folder):\n",
    "        # Check if the file is a video\n",
    "        if filename.endswith('.mp4') or filename.endswith('.avi'):\n",
    "            # Create a directory for the frames of this video in the output folder\n",
    "            output_subfolder = os.path.join(output_folder, os.path.splitext(filename)[0])\n",
    "            os.makedirs(output_subfolder, exist_ok=True)\n",
    "            # Open the video file\n",
    "            cap = cv2.VideoCapture(os.path.join(input_folder, filename))\n",
    "            # Loop through all frames of the video\n",
    "            frame_count = 0\n",
    "            while True:\n",
    "                # Read a frame from the video\n",
    "                ret, frame = cap.read()\n",
    "                if not ret:\n",
    "                    break\n",
    "                # Save the frame as a JPEG image in the output directory\n",
    "                output_filename = os.path.join(output_subfolder, f'frame_{frame_count:04d}.jpg')\n",
    "                cv2.imwrite(output_filename, frame)\n",
    "                frame_count += 1\n",
    "            # Release the video file\n",
    "            cap.release()"
   ]
  },
  {
   "cell_type": "code",
   "execution_count": 2,
   "id": "c3a5a9fd",
   "metadata": {},
   "outputs": [],
   "source": [
    "extract_frames('./videos/in', './videos/out')"
   ]
  },
  {
   "cell_type": "markdown",
   "id": "b083536b",
   "metadata": {},
   "source": [
    "---"
   ]
  },
  {
   "cell_type": "markdown",
   "id": "943f84ab",
   "metadata": {},
   "source": [
    "## Edge detection"
   ]
  },
  {
   "cell_type": "markdown",
   "id": "484fb97e",
   "metadata": {},
   "source": [
    "This function first loops through all subdirectories (i.e., video frame directories) in the input folder created by the extract_frames() function. For each subdirectory, it creates a corresponding subdirectory in the output folder, loops through all files (i.e., frames) in the subdirectory, detects edges of the image using the Canny edge detection algorithm, and saves the edges image to the output subdirectory with the same filename as the original image."
   ]
  },
  {
   "cell_type": "code",
   "execution_count": 3,
   "id": "f95a1e18",
   "metadata": {},
   "outputs": [],
   "source": [
    "def detect_edges(input_folder, output_folder):\n",
    "    # Loop through all subdirectories (i.e., video frame directories) in the input folder\n",
    "    for subfolder in os.listdir(input_folder):\n",
    "        if os.path.isdir(os.path.join(input_folder, subfolder)):\n",
    "            # Create a corresponding subdirectory in the output folder\n",
    "            output_subfolder = os.path.join(output_folder, subfolder)\n",
    "            os.makedirs(output_subfolder, exist_ok=True)\n",
    "            # Loop through all files (i.e., frames) in the subdirectory\n",
    "            for filename in os.listdir(os.path.join(input_folder, subfolder)):\n",
    "                # Check if the file is an image\n",
    "                if filename.endswith('.jpg') or filename.endswith('.png'):\n",
    "                    # Read the image file\n",
    "                    img = cv2.imread(os.path.join(input_folder, subfolder, filename))\n",
    "                    # Convert the image to grayscale\n",
    "                    gray = cv2.cvtColor(img, cv2.COLOR_BGR2GRAY)\n",
    "                    # Detect edges using the Canny edge detection algorithm\n",
    "                    edges = cv2.Canny(gray, 100, 200)\n",
    "                    # Save the edges image to the output subdirectory\n",
    "                    output_filename = os.path.join(output_subfolder, filename)\n",
    "                    cv2.imwrite(output_filename, edges)"
   ]
  },
  {
   "cell_type": "code",
   "execution_count": 4,
   "id": "e8c317a3",
   "metadata": {},
   "outputs": [],
   "source": [
    "detect_edges('./videos/out', './videos/edge')"
   ]
  },
  {
   "cell_type": "markdown",
   "id": "f85a441f",
   "metadata": {},
   "source": [
    "---"
   ]
  },
  {
   "cell_type": "markdown",
   "id": "9feef18e",
   "metadata": {},
   "source": [
    "## Edge to dataframes"
   ]
  },
  {
   "cell_type": "markdown",
   "id": "a22b5f97",
   "metadata": {},
   "source": [
    "This function takes the input_folder and output_folder as arguments. It first iterates over all the subfolders in the input_folder. For each subfolder, it creates the corresponding output folder in the output_folder.\n",
    "\n",
    "It then iterates over all the edge images in the subfolder, loads each image, reduces its resolution to 1/5 using OpenCV's resize function, and converts the image to a 0-1 DataFrame by thresholding the pixel values. It flattens the DataFrame and adds the resulting row to a list of rows.\n",
    "\n",
    "Once it has processed all the edge images in the subfolder, it creates a DataFrame with all the rows and writes it to a CSV file in the corresponding output folder.\n",
    "\n",
    "Note that this function assumes that the edge images are stored as grayscale images, and it uses OpenCV's IMREAD_GRAYSCALE flag to load them. If the edge images are stored in a different format, you may need to modify the code accordingly."
   ]
  },
  {
   "cell_type": "code",
   "execution_count": 7,
   "id": "3c5fdfdc",
   "metadata": {},
   "outputs": [],
   "source": [
    "import pandas as pd\n",
    "import numpy as np\n",
    "\n",
    "def reduce_resolution_and_convert_to_df(input_folder, output_folder):\n",
    "    # Iterate over all the subfolders in the input folder\n",
    "    for subfolder in os.listdir(input_folder):\n",
    "        subfolder_path = os.path.join(input_folder, subfolder)\n",
    "        \n",
    "        # Skip non-directories\n",
    "        if not os.path.isdir(subfolder_path):\n",
    "            continue\n",
    "        \n",
    "        # Create the output folder if it doesn't exist\n",
    "        output_subfolder = os.path.join(output_folder, subfolder)\n",
    "        os.makedirs(output_subfolder, exist_ok=True)\n",
    "        \n",
    "        # Iterate over all the edge images in the subfolder\n",
    "        df_rows = []\n",
    "        for edge_image_file in os.listdir(subfolder_path):\n",
    "            edge_image_path = os.path.join(subfolder_path, edge_image_file)\n",
    "            \n",
    "            # Load the edge image and reduce its resolution to 1/5\n",
    "            edge_image = cv2.imread(edge_image_path, cv2.IMREAD_GRAYSCALE)\n",
    "            edge_image_small = cv2.resize(edge_image, (0, 0), fx=0.2, fy=0.2)\n",
    "            \n",
    "            # Convert the edge image to a 0-1 DataFrame\n",
    "            edge_image_binary = np.where(edge_image_small < 128, 0, 1)\n",
    "            df_rows.append(edge_image_binary.flatten())\n",
    "        \n",
    "        # Create the DataFrame for this subfolder\n",
    "        df = pd.DataFrame(df_rows)\n",
    "        \n",
    "        # Write the DataFrame to a CSV file in the output folder\n",
    "        output_file = os.path.join(output_subfolder, f\"{subfolder}.csv\")\n",
    "        df.to_csv(output_file, index=False, header=False)"
   ]
  },
  {
   "cell_type": "code",
   "execution_count": 8,
   "id": "9b3600e0",
   "metadata": {},
   "outputs": [],
   "source": [
    "reduce_resolution_and_convert_to_df('./videos/edge', './videos/dataframes')"
   ]
  },
  {
   "cell_type": "code",
   "execution_count": null,
   "id": "a6737ba5",
   "metadata": {},
   "outputs": [],
   "source": []
  }
 ],
 "metadata": {
  "kernelspec": {
   "display_name": "Python 3 (ipykernel)",
   "language": "python",
   "name": "python3"
  },
  "language_info": {
   "codemirror_mode": {
    "name": "ipython",
    "version": 3
   },
   "file_extension": ".py",
   "mimetype": "text/x-python",
   "name": "python",
   "nbconvert_exporter": "python",
   "pygments_lexer": "ipython3",
   "version": "3.9.2"
  }
 },
 "nbformat": 4,
 "nbformat_minor": 5
}
